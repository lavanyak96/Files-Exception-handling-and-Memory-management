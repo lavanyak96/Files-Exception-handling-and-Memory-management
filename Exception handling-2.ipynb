{
 "cells": [
  {
   "cell_type": "markdown",
   "id": "d8e3eaeb-e123-446e-a2f1-4c4a27fcc811",
   "metadata": {},
   "source": [
    "Q1. Explain why we have to use the Exception class while creating a Custom Exception.\n",
    "Note: Here Exception class refers to the base class for all the exceptions."
   ]
  },
  {
   "cell_type": "markdown",
   "id": "0522989b-1a71-480f-919b-71675829f2f6",
   "metadata": {},
   "source": [
    "when creating a custom exception, it is recommended to inherit from the Exception class (or one of its subclasses) for several important reasons:\n",
    "\n",
    "Consistency and Compatibility: Inheriting from the Exception class ensures that your custom exception class follows the same structure and conventions as built-in exceptions. This consistency makes your custom exceptions compatible with existing error-handling mechanisms in Python, such as try and except blocks.\n",
    "\n",
    "Catch-All Capability: By inheriting from the Exception class, your custom exception can be caught in a broad except block that catches general exceptions, allowing you to handle your custom exception along with other exceptions in a uniform way.\n",
    "\n",
    "Readability and Understanding: When someone else reads your code or uses your library, inheriting from Exception makes it clear that your custom exception is intended to represent an error or exceptional condition. It enhances the readability and maintainability of your code.\n",
    "\n",
    "Future Compatibility: Python may introduce new exception types in the future. By using the Exception base class, your custom exception will remain compatible with future versions of Python and any changes or additions to the exception hierarchy."
   ]
  },
  {
   "cell_type": "code",
   "execution_count": 1,
   "id": "df3e9a21-85e8-4e13-975f-75ba5d42bf56",
   "metadata": {},
   "outputs": [
    {
     "name": "stdout",
     "output_type": "stream",
     "text": [
      "Custom exception caught: This is a custom exception.\n"
     ]
    }
   ],
   "source": [
    "class MyCustomException(Exception):\n",
    "    \"\"\"Custom exception inheriting from Exception.\"\"\"\n",
    "\n",
    "    def __init__(self, message):\n",
    "        super().__init__(message)\n",
    "\n",
    "try:\n",
    "    # Code that may raise MyCustomException\n",
    "    raise MyCustomException(\"This is a custom exception.\")\n",
    "except MyCustomException as e:\n",
    "    print(f\"Custom exception caught: {e}\")\n",
    "except Exception as e:\n",
    "    print(f\"General exception caught: {e}\")"
   ]
  },
  {
   "cell_type": "markdown",
   "id": "c35b32e0-8b47-4a86-b196-d92a4792c8ac",
   "metadata": {},
   "source": [
    "  "
   ]
  },
  {
   "cell_type": "markdown",
   "id": "30af6fc1-1fa1-4fb4-9ba6-e54219c1a1b3",
   "metadata": {},
   "source": [
    "Q2. Write a python program to print Python Exception Hierarchy."
   ]
  },
  {
   "cell_type": "code",
   "execution_count": null,
   "id": "14465ba3-0847-4047-bb87-db013275f2e0",
   "metadata": {},
   "outputs": [],
   "source": [
    "def print_exception_hierarchy(exception_class, indent=0):\n",
    "    print(\" \" * indent + exception_class.__name__)\n",
    "    for subclass in exception_class.__subclasses__():\n",
    "        print_exception_hierarchy(subclass, indent + 2)\n",
    "\n",
    "# Start with the base class 'BaseException' to print the entire hierarchy.\n",
    "print_exception_hierarchy(BaseException)"
   ]
  },
  {
   "cell_type": "markdown",
   "id": "5da243d5-56ad-4761-a2d9-315fa2b090e8",
   "metadata": {},
   "source": [
    "  "
   ]
  },
  {
   "cell_type": "markdown",
   "id": "7db33e17-e880-46ea-9680-2a23fdf4e6f6",
   "metadata": {},
   "source": [
    "Q3. What errors are defined in the ArithmeticError class? Explain any two with an example."
   ]
  },
  {
   "cell_type": "markdown",
   "id": "f620699a-418b-406c-92cf-c7ddbd241b34",
   "metadata": {},
   "source": [
    "The ArithmeticError class in Python is a base class for exceptions that occur during arithmetic operations. It is the parent class for various arithmetic-related exception classes. Two commonly used exceptions derived from ArithmeticError are ZeroDivisionError and OverflowError. \n",
    "\n",
    "1.ZeroDivisionError:\n",
    "This exception is raised when an attempt is made to divide a number by zero."
   ]
  },
  {
   "cell_type": "code",
   "execution_count": 6,
   "id": "d730709a-5db0-4d4b-afe6-5d6146a3edbe",
   "metadata": {},
   "outputs": [
    {
     "name": "stdout",
     "output_type": "stream",
     "text": [
      "Error: division by zero\n"
     ]
    }
   ],
   "source": [
    "try:\n",
    "    result = 10 / 0  # Attempt to divide by zero\n",
    "except ZeroDivisionError as e:\n",
    "    print(f\"Error: {e}\")"
   ]
  },
  {
   "cell_type": "markdown",
   "id": "555b82c2-7782-47d4-9284-56520b0a4dff",
   "metadata": {},
   "source": [
    "2.OverflowError:\n",
    "This exception is raised when an arithmetic operation exceeds the limit of the data type's representational capacity."
   ]
  },
  {
   "cell_type": "code",
   "execution_count": 7,
   "id": "ed4c1e67-07c4-4eb8-a949-f00fb79e1949",
   "metadata": {},
   "outputs": [],
   "source": [
    "try:\n",
    "    result = 2 ** 1000\n",
    "except OverflowError as e:\n",
    "    print(f\"Error: {e}\")"
   ]
  },
  {
   "cell_type": "markdown",
   "id": "5f97fa09-6b59-4a42-9d51-f06b580f0fae",
   "metadata": {},
   "source": [
    "  "
   ]
  },
  {
   "cell_type": "markdown",
   "id": "93651381-f2bf-4e1f-b628-ade48faa2d2b",
   "metadata": {},
   "source": [
    "Q4. Why LookupError class is used? Explain with an example KeyError and IndexError."
   ]
  },
  {
   "cell_type": "markdown",
   "id": "ac20aaa8-7761-4a39-9c6d-45c86cc18298",
   "metadata": {},
   "source": [
    "The LookupError class in Python is a base class for exceptions that occur when an attempt is made to access an element in a collection or sequence (e.g., a list, dictionary, or tuple) that doesn't exist. It is the parent class for several specific lookup-related exception classes, including KeyError and IndexError. \n",
    "\n",
    "1.KeyError:\n",
    "KeyError is raised when you try to access a dictionary with a key that doesn't exist in the dictionary."
   ]
  },
  {
   "cell_type": "code",
   "execution_count": 8,
   "id": "67a15646-0eed-45c1-89ca-b638e176f1b3",
   "metadata": {},
   "outputs": [
    {
     "name": "stdout",
     "output_type": "stream",
     "text": [
      "Error: 'city'\n"
     ]
    }
   ],
   "source": [
    "my_dict = {\"name\": \"Alice\", \"age\": 30}\n",
    "try:\n",
    "    value = my_dict[\"city\"]\n",
    "except KeyError as e:\n",
    "    print(f\"Error: {e}\")"
   ]
  },
  {
   "cell_type": "markdown",
   "id": "2be704b3-a35f-4fec-a3f5-432e97a6c7dd",
   "metadata": {},
   "source": [
    "2.IndexError:\n",
    "IndexError is raised when you try to access an index in a sequence (e.g., a list or tuple) that is out of range."
   ]
  },
  {
   "cell_type": "code",
   "execution_count": 9,
   "id": "ed25945a-9ceb-4f0d-a116-6159e6eabcd3",
   "metadata": {},
   "outputs": [
    {
     "name": "stdout",
     "output_type": "stream",
     "text": [
      "Error: list index out of range\n"
     ]
    }
   ],
   "source": [
    "my_list = [10, 20, 30]\n",
    "try:\n",
    "    value = my_list[3]\n",
    "except IndexError as e:\n",
    "    print(f\"Error: {e}\")"
   ]
  },
  {
   "cell_type": "markdown",
   "id": "ff9824bd-d33f-4788-89e6-782a82386f6a",
   "metadata": {},
   "source": [
    "  "
   ]
  },
  {
   "cell_type": "markdown",
   "id": "a199d1e8-cdd0-47f6-830f-f7ead6f8ee4c",
   "metadata": {},
   "source": [
    "Q5. Explain ImportError. What is ModuleNotFoundError?\n",
    "\n",
    "ImportError and ModuleNotFoundError are both exceptions in Python that relate to issues with importing modules. "
   ]
  },
  {
   "cell_type": "markdown",
   "id": "b201f9aa-dbc8-45f0-8154-59d622591490",
   "metadata": {},
   "source": [
    "1.ImportError:\n",
    "ImportError is a base class for exceptions related to module importing. It is raised when an import statement fails to import a module for various reasons.\n",
    "\n",
    "Common reasons for ImportError include:\n",
    "\n",
    "The module does not exist in the specified location.\n",
    "There is an issue with the module's code, such as syntax errors.\n",
    "The module has missing dependencies.\n",
    "Circular imports or other import-related problems.\n",
    "\n",
    "2.ModuleNotFoundError:\n",
    "ModuleNotFoundError is raised when an attempt to import a module fails because the specified module could not be found.\n",
    "This exception is more specific than ImportError and provides a more informative error message."
   ]
  },
  {
   "cell_type": "markdown",
   "id": "af9b9a26-ce2a-424d-b5e4-8300ab8663fd",
   "metadata": {},
   "source": [
    "  "
   ]
  },
  {
   "cell_type": "markdown",
   "id": "84e0bf29-65b4-4c92-a686-501ebfbd6a92",
   "metadata": {},
   "source": [
    "Q6. List down some best practices for exception handling in python."
   ]
  },
  {
   "cell_type": "markdown",
   "id": "11b2a74f-986e-4d50-a90b-78339468197e",
   "metadata": {},
   "source": [
    "Exception handling is an important aspect of writing robust and maintainable Python code. \n",
    "Below are some best practices for effective exception handling in Python:\n",
    "\n",
    "1.Use Specific Exception Types: Catch and handle specific exceptions rather than catching broad exceptions like Exception. This allows you to handle errors more precisely and prevents unintended consequences.\n",
    "\n",
    "2.Avoid Bare except: Avoid using bare except clauses (i.e., except: without specifying an exception type) because they catch all exceptions, making it difficult to diagnose issues. Instead, specify the expected exception(s).\n",
    "\n",
    "3.Use finally for Cleanup: When you need to ensure that certain actions are taken regardless of whether an exception occurred or not, use the finally block for cleanup operations (e.g., closing files, releasing resources).\n",
    "\n",
    "4.Keep try Blocks Minimal: Keep the code inside try blocks as minimal as possible to narrow down the scope of the potential error. This makes it easier to locate the source of the exception.\n",
    "\n",
    "5.Log Exceptions: Use a logging framework like Python's logging module to log exceptions along with relevant information. This helps in tracking errors in production systems.\n",
    "\n",
    "6.Document Exception Handling: Document the purpose and expected behavior of exception handling in your code, especially if you are using custom exception classes.\n",
    "\n",
    "7.Use User-Defined Exceptions: Create and use custom (user-defined) exception classes when dealing with application-specific error conditions. This enhances code readability and maintainability."
   ]
  }
 ],
 "metadata": {
  "kernelspec": {
   "display_name": "Python 3 (ipykernel)",
   "language": "python",
   "name": "python3"
  },
  "language_info": {
   "codemirror_mode": {
    "name": "ipython",
    "version": 3
   },
   "file_extension": ".py",
   "mimetype": "text/x-python",
   "name": "python",
   "nbconvert_exporter": "python",
   "pygments_lexer": "ipython3",
   "version": "3.10.8"
  }
 },
 "nbformat": 4,
 "nbformat_minor": 5
}
