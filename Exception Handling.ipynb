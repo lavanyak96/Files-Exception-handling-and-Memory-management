{
 "cells": [
  {
   "cell_type": "markdown",
   "id": "4de4671f-41f5-4673-9caf-e171f867e374",
   "metadata": {},
   "source": [
    "Q1. What is ann Exception in python? Write the difference between Exceptions\n",
    "and Syntax errors."
   ]
  },
  {
   "cell_type": "markdown",
   "id": "d88775c3-853c-48d1-9cdd-20933b6cf764",
   "metadata": {},
   "source": [
    "Exceptions are raised when an error or unexpected condition is encountered, and they can be caught and handled to prevent the program from crashing. \n",
    "\n",
    "Differences between exceptions and syntax errors:\n",
    "\n",
    "Exceptions:\n",
    "Exceptions occur during the runtime of a program.\n",
    "They are caused by events or conditions that happen while the program is executing.\n",
    "Examples of exceptions include ZeroDivisionError, FileNotFoundError, IndexError, and TypeError.\n",
    "Exceptions can be caught and handled using try-except blocks.\n",
    "\n",
    "Syntax Errors:\n",
    "Syntax errors occur during the compilation or parsing of a program.\n",
    "They are caused by violations of the language's syntax rules.\n",
    "Examples of syntax errors include missing colons, misspelled keywords, and improper indentation.\n",
    "Syntax errors prevent the program from being executed at all and must be fixed before running the program.\n",
    "\n",
    "In summary, exceptions are runtime errors that occur while a program is running and can be handled, while syntax errors are compile-time errors that prevent a program from running and must be fixed in the code before execution."
   ]
  },
  {
   "cell_type": "markdown",
   "id": "e0bcc629-a1ac-421d-bba8-e4982f2d4c03",
   "metadata": {},
   "source": [
    "  "
   ]
  },
  {
   "cell_type": "markdown",
   "id": "28f2a23a-ddc9-4916-946e-58f2ad89d2c4",
   "metadata": {},
   "source": [
    "Q2. What happens when an exception is not handled? Explain with an example."
   ]
  },
  {
   "cell_type": "markdown",
   "id": "2a7e830c-24a2-4cd3-88d5-5e948b95304a",
   "metadata": {},
   "source": [
    "When an exception is not handled in a Python program, it looks for an exception handler (try-except block) that can handle it. If it reaches the top of the call stack and there is no suitable handler, the program terminates, and an error message is displayed to the user. This error message includes information about the type of exception and a traceback, which shows the sequence of function calls leading to the unhandled exception."
   ]
  },
  {
   "cell_type": "code",
   "execution_count": 1,
   "id": "b913788b-1278-4309-b25f-61160d73f532",
   "metadata": {},
   "outputs": [
    {
     "ename": "ZeroDivisionError",
     "evalue": "division by zero",
     "output_type": "error",
     "traceback": [
      "\u001b[0;31m---------------------------------------------------------------------------\u001b[0m",
      "\u001b[0;31mZeroDivisionError\u001b[0m                         Traceback (most recent call last)",
      "Cell \u001b[0;32mIn[1], line 5\u001b[0m\n\u001b[1;32m      2\u001b[0m     \u001b[38;5;28;01mreturn\u001b[39;00m a \u001b[38;5;241m/\u001b[39m b\n\u001b[1;32m      4\u001b[0m \u001b[38;5;28;01mtry\u001b[39;00m:\n\u001b[0;32m----> 5\u001b[0m     result \u001b[38;5;241m=\u001b[39m \u001b[43mdivide\u001b[49m\u001b[43m(\u001b[49m\u001b[38;5;241;43m5\u001b[39;49m\u001b[43m,\u001b[49m\u001b[43m \u001b[49m\u001b[38;5;241;43m0\u001b[39;49m\u001b[43m)\u001b[49m\n\u001b[1;32m      6\u001b[0m     \u001b[38;5;28mprint\u001b[39m(\u001b[38;5;124m\"\u001b[39m\u001b[38;5;124mResult:\u001b[39m\u001b[38;5;124m\"\u001b[39m, result)\n\u001b[1;32m      7\u001b[0m \u001b[38;5;28;01mexcept\u001b[39;00m \u001b[38;5;167;01mValueError\u001b[39;00m:\n",
      "Cell \u001b[0;32mIn[1], line 2\u001b[0m, in \u001b[0;36mdivide\u001b[0;34m(a, b)\u001b[0m\n\u001b[1;32m      1\u001b[0m \u001b[38;5;28;01mdef\u001b[39;00m \u001b[38;5;21mdivide\u001b[39m(a, b):\n\u001b[0;32m----> 2\u001b[0m     \u001b[38;5;28;01mreturn\u001b[39;00m \u001b[43ma\u001b[49m\u001b[43m \u001b[49m\u001b[38;5;241;43m/\u001b[39;49m\u001b[43m \u001b[49m\u001b[43mb\u001b[49m\n",
      "\u001b[0;31mZeroDivisionError\u001b[0m: division by zero"
     ]
    }
   ],
   "source": [
    "def divide(a, b):\n",
    "    return a / b\n",
    "\n",
    "try:\n",
    "    result = divide(5, 0)\n",
    "    print(\"Result:\", result)\n",
    "except ValueError:\n",
    "    print(\"Caught a ValueError\")\n",
    "    \n",
    "# It will raise a ZeroDivisionError because we're trying to divide by zero. "
   ]
  },
  {
   "cell_type": "markdown",
   "id": "2157cfa4-10d1-4129-ab23-b6a1202902db",
   "metadata": {},
   "source": [
    "It will raise a ZeroDivisionError because we're trying to divide by zero.In this case, the exception was not handled, and the program terminated abruptly due to the unhandled exception. "
   ]
  },
  {
   "cell_type": "markdown",
   "id": "aabd781a-3872-42f2-ad1a-0b001e60468d",
   "metadata": {},
   "source": [
    "  "
   ]
  },
  {
   "cell_type": "markdown",
   "id": "fa0ee6ec-81cb-42cf-a993-d32d68b76855",
   "metadata": {},
   "source": [
    "Q3. Which Python statements are used to catch and handle exceptions? Explain with an example.\n",
    "\n",
    "\n",
    "In Python, you can use the try, except, else, and finally statements to catch and handle exceptions.\n",
    "\n",
    "1.try: This statement defines a block of code where you expect exceptions to occur. If an exception occurs within this block, the program will attempt to handle it.\n",
    "\n",
    "2.except: This statement follows a try block and defines a block of code that specifies what to do when a specific exception occurs. You can have multiple except blocks to handle different types of exceptions.\n",
    "\n",
    "3.else: This optional statement is used after one or more except blocks and defines a block of code that will run when no exceptions are raised in the try block.\n",
    "\n",
    "4.finally: This optional statement follows all except and else blocks and defines a block of code that will always execute, regardless of whether an exception occurred or not. It's commonly used for cleanup operations."
   ]
  },
  {
   "cell_type": "code",
   "execution_count": 5,
   "id": "e9db9552-604d-405d-9499-b034aa58ab7c",
   "metadata": {},
   "outputs": [
    {
     "name": "stdin",
     "output_type": "stream",
     "text": [
      "Enter a number:  0\n"
     ]
    },
    {
     "name": "stdout",
     "output_type": "stream",
     "text": [
      "Division by zero is not allowed.\n",
      "Execution completed.\n"
     ]
    }
   ],
   "source": [
    "try:\n",
    "    x = int(input(\"Enter a number: \"))\n",
    "    y = 10 / x  # This can raise a ZeroDivisionError\n",
    "except ValueError:\n",
    "    print(\"Invalid input. Please enter a valid number.\")\n",
    "except ZeroDivisionError:\n",
    "    print(\"Division by zero is not allowed.\")\n",
    "else:\n",
    "    print(f\"Result: {y}\")\n",
    "finally:\n",
    "    print(\"Execution completed.\")"
   ]
  },
  {
   "cell_type": "markdown",
   "id": "044544d8-880d-46b7-aa48-5584329fbdf1",
   "metadata": {},
   "source": [
    "  "
   ]
  },
  {
   "cell_type": "markdown",
   "id": "d4081db6-9633-436f-accf-343949770b2e",
   "metadata": {},
   "source": [
    "Q4. Explain with an example:\n",
    "a.try and else\n",
    "b.finally\n",
    "c.raise"
   ]
  },
  {
   "cell_type": "markdown",
   "id": "c90d7d50-bb0c-4959-9722-fbf262a538bf",
   "metadata": {},
   "source": [
    "a. try, else:\n",
    "\n",
    "The try block is used to enclose a section of code where you expect exceptions to occur. The else block, which is optional, follows the except block(s) and contains code that runs if no exceptions are raised in the try block."
   ]
  },
  {
   "cell_type": "code",
   "execution_count": 7,
   "id": "60f21312-6875-4726-ac8f-ea1cc16df887",
   "metadata": {},
   "outputs": [
    {
     "name": "stdin",
     "output_type": "stream",
     "text": [
      "Enter a number:  10\n"
     ]
    },
    {
     "name": "stdout",
     "output_type": "stream",
     "text": [
      "Result: 1.0\n"
     ]
    }
   ],
   "source": [
    "try:\n",
    "    x = int(input(\"Enter a number: \"))\n",
    "    result = 10 / x\n",
    "except ValueError:\n",
    "    print(\"Invalid input. Please enter a valid number.\")\n",
    "except ZeroDivisionError:\n",
    "    print(\"Division by zero is not allowed.\")\n",
    "else:\n",
    "    print(f\"Result: {result}\")"
   ]
  },
  {
   "cell_type": "markdown",
   "id": "3bf1ec4a-4b7c-4fc4-b5f2-c35217e14922",
   "metadata": {},
   "source": [
    "b. finally:\n",
    "\n",
    "The finally block is used to specify a section of code that always executes, regardless of whether an exception occurred or not. It is commonly used for cleanup operations or to ensure certain actions are performed."
   ]
  },
  {
   "cell_type": "code",
   "execution_count": 8,
   "id": "9f6567c7-4d65-4847-a0f1-293d8fc07598",
   "metadata": {},
   "outputs": [
    {
     "name": "stdout",
     "output_type": "stream",
     "text": [
      "File not found.\n",
      "Cleanup complete.\n"
     ]
    }
   ],
   "source": [
    "try:\n",
    "    file = open(\"example.txt\", \"r\")\n",
    "    data = file.read()\n",
    "except FileNotFoundError:\n",
    "    print(\"File not found.\")\n",
    "else:\n",
    "    print(\"File read successfully.\")\n",
    "finally:\n",
    "    if 'file' in locals():\n",
    "        file.close()\n",
    "    print(\"Cleanup complete.\")"
   ]
  },
  {
   "cell_type": "markdown",
   "id": "8586b18e-59c0-49f5-b4be-3d5af3950922",
   "metadata": {},
   "source": [
    "c. raise:\n",
    "\n",
    "The raise statement is used to manually raise an exception in your code. You can raise built-in exceptions or create custom exceptions."
   ]
  },
  {
   "cell_type": "code",
   "execution_count": 9,
   "id": "a03ef209-1241-4749-b6b2-b71f17a04ef7",
   "metadata": {},
   "outputs": [
    {
     "name": "stdout",
     "output_type": "stream",
     "text": [
      "Error: Division by zero is not allowed.\n"
     ]
    }
   ],
   "source": [
    "def divide(a, b):\n",
    "    if b == 0:\n",
    "        raise ZeroDivisionError(\"Division by zero is not allowed.\")\n",
    "    return a / b\n",
    "\n",
    "try:\n",
    "    result = divide(10, 0)\n",
    "except ZeroDivisionError as e:\n",
    "    print(f\"Error: {e}\")"
   ]
  },
  {
   "cell_type": "markdown",
   "id": "392d6401-86c9-4ecb-ab79-83a760bd5f55",
   "metadata": {},
   "source": [
    "  "
   ]
  },
  {
   "cell_type": "markdown",
   "id": "bced8480-ffb9-422d-a990-6d0763283b7e",
   "metadata": {},
   "source": [
    "Q5. What are Custom Exceptions in python? Why do we need Custom Exeptions? Explain with an example."
   ]
  },
  {
   "cell_type": "markdown",
   "id": "2de2efb4-75d4-45fe-9bef-25316c69f2d3",
   "metadata": {},
   "source": [
    "Custom exceptions in Python, also known as user-defined exceptions, are exceptions that you define yourself by creating new exception classes that inherit from Python's built-in exception classes. You create custom exceptions to handle specific error conditions or exceptional cases that are not adequately represented by the standard built-in exceptions. Custom exceptions provide more context and clarity in your code and allow you to implement specialized error handling.\n",
    "\n",
    "why we need custom exceptions:\n",
    "\n",
    "Clarity and Readability: Custom exceptions can provide more descriptive names for error conditions in your code, making it easier to understand the cause of an exception when reading the code.\n",
    "\n",
    "Specialized Error Handling: Custom exceptions allow you to handle specific error scenarios with precision. You can create exceptions tailored to your application's domain or requirements.\n",
    "\n",
    "Consistency: They help maintain consistency in error handling throughout your codebase, making it easier to follow a consistent pattern for error handling.\n",
    "\n",
    "Documentation: Custom exceptions serve as documentation for the expected error conditions and how they should be handled."
   ]
  },
  {
   "cell_type": "code",
   "execution_count": 11,
   "id": "18f45adf-107c-46bb-b900-ef7581cf857b",
   "metadata": {},
   "outputs": [
    {
     "name": "stdout",
     "output_type": "stream",
     "text": [
      "Error: Negative value (-5) is not allowed.\n"
     ]
    }
   ],
   "source": [
    "class NegativeValueError(Exception):\n",
    "    \"\"\"Custom exception for handling negative values.\"\"\"\n",
    "\n",
    "    def __init__(self, value):\n",
    "        self.value = value\n",
    "        super().__init__(f\"Negative value ({value}) is not allowed.\")\n",
    "\n",
    "\n",
    "def process_positive_number(num):\n",
    "    if num < 0:\n",
    "        raise NegativeValueError(num)\n",
    "    return num * 2\n",
    "\n",
    "\n",
    "try:\n",
    "    result = process_positive_number(-5)\n",
    "except NegativeValueError as e:\n",
    "    print(f\"Error: {e}\")\n",
    "else:\n",
    "    print(f\"Result: {result}\")\n"
   ]
  },
  {
   "cell_type": "markdown",
   "id": "bd580716-e27f-4d69-8cb7-897c8e262dec",
   "metadata": {},
   "source": [
    "  "
   ]
  },
  {
   "cell_type": "markdown",
   "id": "a5b02138-c7f6-4c5e-8d1e-46327aad56e3",
   "metadata": {},
   "source": [
    "Q6. Create custom exception class. Use this class to handle an exception."
   ]
  },
  {
   "cell_type": "code",
   "execution_count": 12,
   "id": "25413282-c48d-4ffe-bf69-0f868f674956",
   "metadata": {},
   "outputs": [
    {
     "name": "stdout",
     "output_type": "stream",
     "text": [
      "Custom Exception Caught: Division by zero is not allowed.\n"
     ]
    }
   ],
   "source": [
    "class CustomValueError(Exception):\n",
    "    \"\"\"Custom exception for handling a specific value error.\"\"\"\n",
    "\n",
    "    def __init__(self, value, message=\"Custom value error occurred.\"):\n",
    "        self.value = value\n",
    "        self.message = message\n",
    "        super().__init__(self.message)\n",
    "\n",
    "\n",
    "def divide(a, b):\n",
    "    if b == 0:\n",
    "        raise CustomValueError(b, \"Division by zero is not allowed.\")\n",
    "    return a / b\n",
    "\n",
    "\n",
    "try:\n",
    "    result = divide(10, 0)\n",
    "except CustomValueError as e:\n",
    "    print(f\"Custom Exception Caught: {e}\")\n",
    "else:\n",
    "    print(f\"Result: {result}\")"
   ]
  }
 ],
 "metadata": {
  "kernelspec": {
   "display_name": "Python 3 (ipykernel)",
   "language": "python",
   "name": "python3"
  },
  "language_info": {
   "codemirror_mode": {
    "name": "ipython",
    "version": 3
   },
   "file_extension": ".py",
   "mimetype": "text/x-python",
   "name": "python",
   "nbconvert_exporter": "python",
   "pygments_lexer": "ipython3",
   "version": "3.10.8"
  }
 },
 "nbformat": 4,
 "nbformat_minor": 5
}
